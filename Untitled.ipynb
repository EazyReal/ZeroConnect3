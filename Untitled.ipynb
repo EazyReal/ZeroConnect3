{
 "cells": [
  {
   "cell_type": "code",
   "execution_count": 10,
   "metadata": {},
   "outputs": [],
   "source": [
    "from game import *\n",
    "from copy import deepcopy"
   ]
  },
  {
   "cell_type": "code",
   "execution_count": 18,
   "metadata": {},
   "outputs": [],
   "source": [
    "c_puct = 0.25\n",
    "N = 3"
   ]
  },
  {
   "cell_type": "code",
   "execution_count": 19,
   "metadata": {},
   "outputs": [],
   "source": [
    "class PUCTnode(object):\n",
    "    #after state node with PUCT value, child, parent, recorded\n",
    "    def __init__(self, parent, player, action):\n",
    "        self.parent = parent\n",
    "        self.player = player\n",
    "        self.action = action\n",
    "        self.N = 0 #visit count\n",
    "        self.W = 0 #winning count\n",
    "        self.P = 0\n",
    "        \n",
    "    def score(self, c = c_puct): #the PUCT score\n",
    "        return (self.W/self.N) + c*self.P*np.sqrt(self.parent.N)/(1+self.N)"
   ]
  },
  {
   "cell_type": "code",
   "execution_count": 20,
   "metadata": {},
   "outputs": [
    {
     "ename": "SyntaxError",
     "evalue": "invalid syntax (<ipython-input-20-dcfd8cbf856d>, line 13)",
     "output_type": "error",
     "traceback": [
      "\u001b[0;36m  File \u001b[0;32m\"<ipython-input-20-dcfd8cbf856d>\"\u001b[0;36m, line \u001b[0;32m13\u001b[0m\n\u001b[0;31m    def genmove()\u001b[0m\n\u001b[0m                 ^\u001b[0m\n\u001b[0;31mSyntaxError\u001b[0m\u001b[0;31m:\u001b[0m invalid syntax\n"
     ]
    }
   ],
   "source": [
    "class PUCT_agent(object):\n",
    "    def __init__(self):\n",
    "        pass\n",
    "    def gen_move():\n",
    "        \n",
    "\n",
    "class PUCT(object):\n",
    "    def __init__(self, env, N = N):\n",
    "        self.n = N\n",
    "        self.n2 = N*N\n",
    "        self.renv = deepcopy(env)\n",
    "        self.root = PUCTnode(None, -1, N*N) #\n",
    "    \n",
    "    def run_cycle(self):\n",
    "        "
   ]
  },
  {
   "cell_type": "code",
   "execution_count": null,
   "metadata": {},
   "outputs": [],
   "source": []
  },
  {
   "cell_type": "code",
   "execution_count": null,
   "metadata": {},
   "outputs": [],
   "source": []
  }
 ],
 "metadata": {
  "kernelspec": {
   "display_name": "Python 3",
   "language": "python",
   "name": "python3"
  },
  "language_info": {
   "codemirror_mode": {
    "name": "ipython",
    "version": 3
   },
   "file_extension": ".py",
   "mimetype": "text/x-python",
   "name": "python",
   "nbconvert_exporter": "python",
   "pygments_lexer": "ipython3",
   "version": "3.7.4"
  }
 },
 "nbformat": 4,
 "nbformat_minor": 2
}
