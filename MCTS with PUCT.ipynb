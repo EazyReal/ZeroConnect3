{
 "cells": [
  {
   "cell_type": "code",
   "execution_count": 59,
   "metadata": {},
   "outputs": [],
   "source": [
    "#Remain bugged with PUCT, not knowing what exactly is prior of taking that action, 1/validmoves?\n",
    "#mcts with greedy should be able to know the solution?\n",
    "\n",
    "from game import * #game imported env\n",
    "from copy import deepcopy"
   ]
  },
  {
   "cell_type": "code",
   "execution_count": 60,
   "metadata": {},
   "outputs": [],
   "source": [
    "c_puct = 0.25\n",
    "N = 3\n",
    "eps = 1e-5"
   ]
  },
  {
   "cell_type": "code",
   "execution_count": 61,
   "metadata": {},
   "outputs": [],
   "source": [
    "class PUCTnode(object):\n",
    "    #after state node with PUCT value, child, parent, recorded\n",
    "    def __init__(self, parent, player, action, prior=0.):\n",
    "        self.parent = parent\n",
    "        self.player = player\n",
    "        self.action = action\n",
    "        #non zero value for stabilization\n",
    "        self.N = 2 #visit count\n",
    "        self.W = 1 #winning count\n",
    "        self.P = prior\n",
    "        self.children = list()\n",
    "        self.cidx = [-1]*(N*N)\n",
    "        \n",
    "    def score(self, c = c_puct): #the PUCT score\n",
    "        return (self.W/self.N) + c*self.P*np.sqrt(self.parent.N)/(1+self.N)\n",
    "    \n",
    "    def best_child(self):\n",
    "        mchildren = None\n",
    "        mscore = -1 #score>0\n",
    "        for child in self.children:\n",
    "            if child.score() - mscore > eps:\n",
    "                mchildren = [child]\n",
    "                mscore = child.score()\n",
    "            elif abs(child.score() - mscore) < eps:\n",
    "                mchildren.append(child)\n",
    "        if mchildren == None:\n",
    "            return None\n",
    "        mc = np.random.choice(mchildren)\n",
    "        return mc"
   ]
  },
  {
   "cell_type": "code",
   "execution_count": 62,
   "metadata": {},
   "outputs": [],
   "source": [
    "class PUCT_Agent(object):\n",
    "    def __init__(self):\n",
    "        pass\n",
    "    def gen_move(self, env, simulation_cnt = 900):\n",
    "        tree = PUCT(env)\n",
    "        for ep in range(simulation_cnt):\n",
    "            tree.run_cycle()\n",
    "            #print(\"cycle\\n\", ep)\n",
    "        p = tree.getPi(tree.root)\n",
    "        return np.argmax(p)\n",
    "        \n",
    "\n",
    "class PUCT(object):\n",
    "    def __init__(self, env, N=N):\n",
    "        self.n = N\n",
    "        self.n2 = N*N\n",
    "        self.renv = deepcopy(env)\n",
    "        self.simu_env = deepcopy(env)\n",
    "        self.root = PUCTnode(None, -self.renv.player_to_move(), N*N) #\n",
    "        self.expand(self.root) #watch out hirozen effect\n",
    "        self.model = Random_Agent()\n",
    "    \n",
    "    def reset(self):\n",
    "        self.simu_env = deepcopy(self.renv)\n",
    "    \n",
    "    def clear(self):\n",
    "        self.renv = deepcopy(env)\n",
    "        self.simu_env = deepcopy(self.renv)\n",
    "        self.root = PUCTnode(None, -1, N*N)\n",
    "    \n",
    "    def expand(self, node):\n",
    "        if len(node.children) != 0:\n",
    "            raise AlgoError(\"want to expand already expanded node\")\n",
    "            return \n",
    "        for action in self.simu_env.valid_actions():\n",
    "            node.cidx[action] = len(node.children)\n",
    "            node.children.append(PUCTnode(node, self.simu_env.player_to_move(), action, 1./len(self.simu_env.valid_actions())))\n",
    "        return len(node.children) != 0\n",
    "    \n",
    "    def simulate(self):\n",
    "        env = self.simu_env\n",
    "        while env.status == -2:\n",
    "            pos = self.model.gen_move(env) #forget to add color in attributes\n",
    "            env.take_action(pos)\n",
    "        return env.status()\n",
    "    \n",
    "    def run_cycle(self):\n",
    "        #reset\n",
    "        self.reset()\n",
    "        env = self.simu_env\n",
    "        #selection \n",
    "        cur = self.root\n",
    "        while cur.best_child() != None:\n",
    "            cur = cur.best_child()\n",
    "            env.take_action(cur.action)\n",
    "        #expansion\n",
    "        if(self.expand(cur)): #if not end\n",
    "            pos = self.model.gen_move(env) #one step look ahead with greedy\n",
    "            cur = cur.children[cur.cidx[pos]]\n",
    "            env.take_action(pos)\n",
    "            \n",
    "        #    env.take_action(cur.action)\n",
    "        #simulation\n",
    "        winner = self.simulate()\n",
    "        #backpropagation\n",
    "        while True:\n",
    "            cur.N += 1\n",
    "            if cur.player == winner:\n",
    "                cur.W += 1\n",
    "            elif cur.player == -winner:\n",
    "                cur.W -= 1\n",
    "            if cur.parent == None:\n",
    "                break\n",
    "            else:\n",
    "                cur = cur.parent\n",
    "    \n",
    "    def getPi(self, node):\n",
    "        c_visit = [0.0 if (node.cidx[i] == -1) else node.children[node.cidx[i]].N for i in range(N*N)]\n",
    "        print(c_visit)\n",
    "        #if(node.children):\n",
    "        #    assert(int(sum(c_visit)-len(node.children)*10) == node.N-10 )\n",
    "        c_p = [x/node.N for x in c_visit]\n",
    "        return c_p"
   ]
  },
  {
   "cell_type": "code",
   "execution_count": 69,
   "metadata": {},
   "outputs": [],
   "source": [
    "pp = PUCT_Agent()\n",
    "pr = Random_Agent()\n",
    "pr2 = Random_Agent()\n",
    "pp2 = PUCT_Agent()\n",
    "pp3 = PUCT_Agent()\n",
    "ph = Human_Agent()\n",
    "g = Game(pp, pp2)\n",
    "#g2 = Game(pr, pr2)\n",
    "g2 = Game(pr, pr2)"
   ]
  },
  {
   "cell_type": "code",
   "execution_count": 64,
   "metadata": {},
   "outputs": [],
   "source": [
    "#raise NameError('HiThere')"
   ]
  },
  {
   "cell_type": "code",
   "execution_count": 65,
   "metadata": {},
   "outputs": [
    {
     "name": "stdout",
     "output_type": "stream",
     "text": [
      "[59, 59, 59, 59, 59, 59, 59, 446, 59]\n",
      "[15, 17, 13, 13, 817, 13, 15, 0.0, 13]\n",
      "[10, 10, 11, 10, 0.0, 10, 404, 0.0, 459]\n",
      "[5, 5, 5, 5, 0.0, 5, 887, 0.0, 0.0]\n",
      "[5, 5, 890, 5, 0.0, 5, 0.0, 0.0, 0.0]\n",
      "[5, 5, 0.0, 5, 0.0, 893, 0.0, 0.0, 0.0]\n",
      "[357, 357, 0.0, 192, 0.0, 0.0, 0.0, 0.0, 0.0]\n",
      "[0.0, 897, 0.0, 7, 0.0, 0.0, 0.0, 0.0, 0.0]\n",
      "[0.0, 0.0, 0.0, 902, 0.0, 0.0, 0.0, 0.0, 0.0]\n"
     ]
    }
   ],
   "source": [
    "play2 = g.play()"
   ]
  },
  {
   "cell_type": "code",
   "execution_count": 66,
   "metadata": {},
   "outputs": [
    {
     "name": "stdout",
     "output_type": "stream",
     "text": [
      "(0, [[1, 4], [-1, 8], [1, 7], [-1, 1], [1, 2], [-1, 6], [1, 3], [-1, 5], [1, 0]])\n",
      "(0, [[1, 7], [-1, 4], [1, 8], [-1, 6], [1, 2], [-1, 5], [1, 0], [-1, 1], [1, 3]])\n"
     ]
    }
   ],
   "source": [
    "print(play)\n",
    "print(play2)\n"
   ]
  },
  {
   "cell_type": "code",
   "execution_count": 67,
   "metadata": {
    "scrolled": true
   },
   "outputs": [
    {
     "name": "stdout",
     "output_type": "stream",
     "text": [
      "[['.' '.' '.']\n",
      " ['.' '.' '.']\n",
      " ['.' 'o' '.']]\n",
      "[['.' '.' '.']\n",
      " ['.' 'x' '.']\n",
      " ['.' 'o' '.']]\n",
      "[['.' '.' '.']\n",
      " ['.' 'x' '.']\n",
      " ['.' 'o' 'o']]\n",
      "[['.' '.' '.']\n",
      " ['.' 'x' '.']\n",
      " ['x' 'o' 'o']]\n",
      "[['.' '.' 'o']\n",
      " ['.' 'x' '.']\n",
      " ['x' 'o' 'o']]\n",
      "[['.' '.' 'o']\n",
      " ['.' 'x' 'x']\n",
      " ['x' 'o' 'o']]\n",
      "[['o' '.' 'o']\n",
      " ['.' 'x' 'x']\n",
      " ['x' 'o' 'o']]\n",
      "[['o' 'x' 'o']\n",
      " ['.' 'x' 'x']\n",
      " ['x' 'o' 'o']]\n",
      "[['o' 'x' 'o']\n",
      " ['o' 'x' 'x']\n",
      " ['x' 'o' 'o']]\n"
     ]
    }
   ],
   "source": [
    "Game.display(play2)"
   ]
  },
  {
   "cell_type": "code",
   "execution_count": 74,
   "metadata": {},
   "outputs": [
    {
     "name": "stdout",
     "output_type": "stream",
     "text": [
      "[['.' '.' '.']\n",
      " ['.' '.' '.']\n",
      " ['.' '.' '.']]\n",
      "input move (x, y) as 3*x+y (0-indexed):4\n",
      "[['.' '.' '.']\n",
      " ['.' 'o' 'x']\n",
      " ['.' '.' '.']]\n",
      "input move (x, y) as 3*x+y (0-indexed):0\n",
      "[['o' '.' '.']\n",
      " ['.' 'o' 'x']\n",
      " ['.' '.' 'x']]\n",
      "input move (x, y) as 3*x+y (0-indexed):8\n",
      "occupied!!\n",
      "input move (x, y) as 3*x+y (0-indexed):7\n",
      "[['.' '.' '.']\n",
      " ['.' 'o' '.']\n",
      " ['.' '.' '.']]\n",
      "[['.' '.' '.']\n",
      " ['.' 'o' 'x']\n",
      " ['.' '.' '.']]\n",
      "[['o' '.' '.']\n",
      " ['.' 'o' 'x']\n",
      " ['.' '.' '.']]\n",
      "[['o' '.' '.']\n",
      " ['.' 'o' 'x']\n",
      " ['.' '.' 'x']]\n",
      "[['o' '.' '.']\n",
      " ['.' 'o' 'x']\n",
      " ['.' 'o' 'x']]\n",
      "[['o' '.' 'x']\n",
      " ['.' 'o' 'x']\n",
      " ['.' 'o' 'x']]\n"
     ]
    }
   ],
   "source": [
    "Game.display(Game(ph,pr).play())"
   ]
  },
  {
   "cell_type": "code",
   "execution_count": null,
   "metadata": {},
   "outputs": [],
   "source": []
  },
  {
   "cell_type": "code",
   "execution_count": null,
   "metadata": {},
   "outputs": [],
   "source": []
  },
  {
   "cell_type": "code",
   "execution_count": null,
   "metadata": {},
   "outputs": [],
   "source": []
  },
  {
   "cell_type": "code",
   "execution_count": null,
   "metadata": {},
   "outputs": [],
   "source": []
  }
 ],
 "metadata": {
  "kernelspec": {
   "display_name": "Python 3",
   "language": "python",
   "name": "python3"
  },
  "language_info": {
   "codemirror_mode": {
    "name": "ipython",
    "version": 3
   },
   "file_extension": ".py",
   "mimetype": "text/x-python",
   "name": "python",
   "nbconvert_exporter": "python",
   "pygments_lexer": "ipython3",
   "version": "3.7.4"
  }
 },
 "nbformat": 4,
 "nbformat_minor": 2
}
