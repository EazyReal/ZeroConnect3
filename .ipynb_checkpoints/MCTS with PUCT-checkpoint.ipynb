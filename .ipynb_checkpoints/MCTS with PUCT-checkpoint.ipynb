{
 "cells": [
  {
   "cell_type": "code",
   "execution_count": 1,
   "metadata": {},
   "outputs": [],
   "source": [
    "from game import * #game imported env\n",
    "from copy import deepcopy"
   ]
  },
  {
   "cell_type": "code",
   "execution_count": 2,
   "metadata": {},
   "outputs": [],
   "source": [
    "c_puct = 0.25\n",
    "N = 3\n",
    "eps = 1e-5"
   ]
  },
  {
   "cell_type": "code",
   "execution_count": 79,
   "metadata": {},
   "outputs": [],
   "source": [
    "class PUCTnode(object):\n",
    "    #after state node with PUCT value, child, parent, recorded\n",
    "    def __init__(self, parent, player, action):\n",
    "        self.parent = parent\n",
    "        self.player = player\n",
    "        self.action = action\n",
    "        #non zero value for stabilization\n",
    "        self.N = 2 #visit count\n",
    "        self.W = 1 #winning count\n",
    "        self.P = 0\n",
    "        self.children = list()\n",
    "        self.cidx = [-1]*(N*N)\n",
    "        \n",
    "    def score(self, c = c_puct): #the PUCT score\n",
    "        return (self.W/self.N) + c*self.P*np.sqrt(self.parent.N)/(1+self.N)\n",
    "    \n",
    "    def best_child(self):\n",
    "        mchildren = None\n",
    "        mscore = -1 #score>0\n",
    "        for child in self.children:\n",
    "            if child.score() - mscore > eps:\n",
    "                mchildren = [child]\n",
    "                mscore = child.score()\n",
    "            elif abs(child.score() - mscore) < eps:\n",
    "                mchildren.append(child)\n",
    "        if mchildren == None:\n",
    "            return None\n",
    "        mc = np.random.choice(mchildren)\n",
    "        return mc"
   ]
  },
  {
   "cell_type": "code",
   "execution_count": 98,
   "metadata": {},
   "outputs": [],
   "source": [
    "class PUCT_Agent(object):\n",
    "    def __init__(self):\n",
    "        pass\n",
    "    def gen_move(self, env, simulation_cnt = 900):\n",
    "        tree = PUCT(env)\n",
    "        for ep in range(simulation_cnt):\n",
    "            tree.run_cycle()\n",
    "            #print(\"cycle\\n\", ep)\n",
    "        p = tree.getPi(tree.root)\n",
    "        return np.argmax(p)\n",
    "        \n",
    "\n",
    "class PUCT(object):\n",
    "    def __init__(self, env, N=N):\n",
    "        self.n = N\n",
    "        self.n2 = N*N\n",
    "        self.renv = deepcopy(env)\n",
    "        self.simu_env = deepcopy(env)\n",
    "        self.root = PUCTnode(None, -self.renv.player_to_move(), N*N) #\n",
    "        self.expand(self.root) #watch out hirozen effect\n",
    "        self.model = Random_Agent()\n",
    "    \n",
    "    def reset(self):\n",
    "        self.simu_env = deepcopy(self.renv)\n",
    "    \n",
    "    def clear(self):\n",
    "        self.renv = deepcopy(env)\n",
    "        self.simu_env = deepcopy(self.renv)\n",
    "        self.root = PUCTnode(None, -1, N*N)\n",
    "    \n",
    "    def expand(self, node):\n",
    "        if len(node.children) != 0:\n",
    "            raise AlgoError(\"want to expand already expanded node\")\n",
    "            return \n",
    "        for action in self.simu_env.valid_actions():\n",
    "            node.cidx[action] = len(node.children)\n",
    "            node.children.append(PUCTnode(node, self.simu_env.player_to_move(), action))\n",
    "        return node.children != None\n",
    "    \n",
    "    def simulate(self):\n",
    "        env = self.simu_env\n",
    "        while env.status == -2:\n",
    "            pos = self.model.gen_move(env) #forget to add color in attributes\n",
    "            env.take_action(pos)\n",
    "        return env.status()\n",
    "    \n",
    "    def run_cycle(self):\n",
    "        #reset\n",
    "        self.reset()\n",
    "        env = self.simu_env\n",
    "        #selection \n",
    "        cur = self.root\n",
    "        while cur.best_child() != None:\n",
    "            cur = cur.best_child()\n",
    "            env.take_action(cur.action)\n",
    "        #expansion\n",
    "        if(self.expand(cur)): #if not end\n",
    "            pos = self.model.gen_move(env) #forget to add color in attributes\n",
    "            cur = cur.children[cur.cidx[pos]]\n",
    "            env.take_action(pos)\n",
    "            \n",
    "        #    env.take_action(cur.action)\n",
    "        #simulation\n",
    "        winner = self.simulate()\n",
    "        #backpropagation\n",
    "        while True:\n",
    "            cur.N += 1\n",
    "            if cur.player == winner:\n",
    "                cur.W += 1\n",
    "            elif cur.player == -winner:\n",
    "                cur.W -= 1\n",
    "            if cur.parent == None:\n",
    "                break\n",
    "            else:\n",
    "                cur = cur.parent\n",
    "    \n",
    "    def getPi(self, node):\n",
    "        c_visit = [0.0 if (node.cidx[i] == -1) else node.children[node.cidx[i]].N for i in range(N*N)]\n",
    "        print(c_visit)\n",
    "        #if(node.children):\n",
    "        #    assert(int(sum(c_visit)-len(node.children)*10) == node.N-10 )\n",
    "        c_p = [x/node.N for x in c_visit]\n",
    "        return c_p"
   ]
  },
  {
   "cell_type": "code",
   "execution_count": 99,
   "metadata": {},
   "outputs": [],
   "source": [
    "pp = PUCT_Agent()\n",
    "pr = Random_Agent()\n",
    "pr2 = Random_Agent()\n",
    "pp2 = PUCT_Agent()\n",
    "pp3 = PUCT_Agent()\n",
    "ph = Human_Agent()\n",
    "g = Game(pp, pp2)\n",
    "#g2 = Game(pr, pr2)\n",
    "g3 = Game(pp3, ph)"
   ]
  },
  {
   "cell_type": "code",
   "execution_count": 100,
   "metadata": {},
   "outputs": [],
   "source": [
    "#raise NameError('HiThere')"
   ]
  },
  {
   "cell_type": "code",
   "execution_count": 101,
   "metadata": {},
   "outputs": [
    {
     "ename": "IndexError",
     "evalue": "list index out of range",
     "output_type": "error",
     "traceback": [
      "\u001b[0;31m---------------------------------------------------------------------------\u001b[0m",
      "\u001b[0;31mIndexError\u001b[0m                                Traceback (most recent call last)",
      "\u001b[0;32m<ipython-input-101-bbd89cd3e634>\u001b[0m in \u001b[0;36m<module>\u001b[0;34m\u001b[0m\n\u001b[0;32m----> 1\u001b[0;31m \u001b[0mplay\u001b[0m \u001b[0;34m=\u001b[0m \u001b[0mg\u001b[0m\u001b[0;34m.\u001b[0m\u001b[0mplay\u001b[0m\u001b[0;34m(\u001b[0m\u001b[0;34m)\u001b[0m\u001b[0;34m\u001b[0m\u001b[0;34m\u001b[0m\u001b[0m\n\u001b[0m",
      "\u001b[0;32m~/CSIE/ZeroConnect3/game.py\u001b[0m in \u001b[0;36mplay\u001b[0;34m(self)\u001b[0m\n\u001b[1;32m     78\u001b[0m             \u001b[0mc\u001b[0m \u001b[0;34m=\u001b[0m \u001b[0menv\u001b[0m\u001b[0;34m.\u001b[0m\u001b[0mplayer_to_move\u001b[0m\u001b[0;34m(\u001b[0m\u001b[0;34m)\u001b[0m\u001b[0;34m\u001b[0m\u001b[0;34m\u001b[0m\u001b[0m\n\u001b[1;32m     79\u001b[0m             \u001b[0mpcur\u001b[0m \u001b[0;34m=\u001b[0m \u001b[0mself\u001b[0m\u001b[0;34m.\u001b[0m\u001b[0mp1\u001b[0m \u001b[0;32mif\u001b[0m \u001b[0mc\u001b[0m \u001b[0;34m==\u001b[0m \u001b[0;36m1\u001b[0m \u001b[0;32melse\u001b[0m \u001b[0mself\u001b[0m\u001b[0;34m.\u001b[0m\u001b[0mp2\u001b[0m\u001b[0;34m\u001b[0m\u001b[0;34m\u001b[0m\u001b[0m\n\u001b[0;32m---> 80\u001b[0;31m             \u001b[0mpos\u001b[0m \u001b[0;34m=\u001b[0m \u001b[0mpcur\u001b[0m\u001b[0;34m.\u001b[0m\u001b[0mgen_move\u001b[0m\u001b[0;34m(\u001b[0m\u001b[0menv\u001b[0m\u001b[0;34m)\u001b[0m \u001b[0;31m#if pass env, may involve in copy env, care the cost\u001b[0m\u001b[0;34m\u001b[0m\u001b[0;34m\u001b[0m\u001b[0m\n\u001b[0m\u001b[1;32m     81\u001b[0m             \u001b[0;32massert\u001b[0m\u001b[0;34m(\u001b[0m\u001b[0mpos\u001b[0m \u001b[0;32min\u001b[0m \u001b[0menv\u001b[0m\u001b[0;34m.\u001b[0m\u001b[0mvalid_actions\u001b[0m\u001b[0;34m(\u001b[0m\u001b[0;34m)\u001b[0m\u001b[0;34m)\u001b[0m\u001b[0;34m\u001b[0m\u001b[0;34m\u001b[0m\u001b[0m\n\u001b[1;32m     82\u001b[0m             \u001b[0mrecord\u001b[0m\u001b[0;34m.\u001b[0m\u001b[0mappend\u001b[0m\u001b[0;34m(\u001b[0m\u001b[0;34m[\u001b[0m\u001b[0mc\u001b[0m\u001b[0;34m,\u001b[0m \u001b[0mpos\u001b[0m\u001b[0;34m]\u001b[0m\u001b[0;34m)\u001b[0m\u001b[0;34m\u001b[0m\u001b[0;34m\u001b[0m\u001b[0m\n",
      "\u001b[0;32m<ipython-input-98-1701a234da4e>\u001b[0m in \u001b[0;36mgen_move\u001b[0;34m(self, env, simulation_cnt)\u001b[0m\n\u001b[1;32m      5\u001b[0m         \u001b[0mtree\u001b[0m \u001b[0;34m=\u001b[0m \u001b[0mPUCT\u001b[0m\u001b[0;34m(\u001b[0m\u001b[0menv\u001b[0m\u001b[0;34m)\u001b[0m\u001b[0;34m\u001b[0m\u001b[0;34m\u001b[0m\u001b[0m\n\u001b[1;32m      6\u001b[0m         \u001b[0;32mfor\u001b[0m \u001b[0mep\u001b[0m \u001b[0;32min\u001b[0m \u001b[0mrange\u001b[0m\u001b[0;34m(\u001b[0m\u001b[0msimulation_cnt\u001b[0m\u001b[0;34m)\u001b[0m\u001b[0;34m:\u001b[0m\u001b[0;34m\u001b[0m\u001b[0;34m\u001b[0m\u001b[0m\n\u001b[0;32m----> 7\u001b[0;31m             \u001b[0mtree\u001b[0m\u001b[0;34m.\u001b[0m\u001b[0mrun_cycle\u001b[0m\u001b[0;34m(\u001b[0m\u001b[0;34m)\u001b[0m\u001b[0;34m\u001b[0m\u001b[0;34m\u001b[0m\u001b[0m\n\u001b[0m\u001b[1;32m      8\u001b[0m             \u001b[0;31m#print(\"cycle\\n\", ep)\u001b[0m\u001b[0;34m\u001b[0m\u001b[0;34m\u001b[0m\u001b[0;34m\u001b[0m\u001b[0m\n\u001b[1;32m      9\u001b[0m         \u001b[0mp\u001b[0m \u001b[0;34m=\u001b[0m \u001b[0mtree\u001b[0m\u001b[0;34m.\u001b[0m\u001b[0mgetPi\u001b[0m\u001b[0;34m(\u001b[0m\u001b[0mtree\u001b[0m\u001b[0;34m.\u001b[0m\u001b[0mroot\u001b[0m\u001b[0;34m)\u001b[0m\u001b[0;34m\u001b[0m\u001b[0;34m\u001b[0m\u001b[0m\n",
      "\u001b[0;32m<ipython-input-98-1701a234da4e>\u001b[0m in \u001b[0;36mrun_cycle\u001b[0;34m(self)\u001b[0m\n\u001b[1;32m     58\u001b[0m             \u001b[0mpos\u001b[0m \u001b[0;34m=\u001b[0m \u001b[0mself\u001b[0m\u001b[0;34m.\u001b[0m\u001b[0mmodel\u001b[0m\u001b[0;34m.\u001b[0m\u001b[0mgen_move\u001b[0m\u001b[0;34m(\u001b[0m\u001b[0menv\u001b[0m\u001b[0;34m)\u001b[0m \u001b[0;31m#forget to add color in attributes\u001b[0m\u001b[0;34m\u001b[0m\u001b[0;34m\u001b[0m\u001b[0m\n\u001b[1;32m     59\u001b[0m             \u001b[0menv\u001b[0m\u001b[0;34m.\u001b[0m\u001b[0mtake_action\u001b[0m\u001b[0;34m(\u001b[0m\u001b[0mpos\u001b[0m\u001b[0;34m)\u001b[0m\u001b[0;34m\u001b[0m\u001b[0;34m\u001b[0m\u001b[0m\n\u001b[0;32m---> 60\u001b[0;31m             \u001b[0mcur\u001b[0m \u001b[0;34m=\u001b[0m \u001b[0mcur\u001b[0m\u001b[0;34m.\u001b[0m\u001b[0mchildren\u001b[0m\u001b[0;34m[\u001b[0m\u001b[0mcur\u001b[0m\u001b[0;34m.\u001b[0m\u001b[0mcidx\u001b[0m\u001b[0;34m[\u001b[0m\u001b[0mpos\u001b[0m\u001b[0;34m]\u001b[0m\u001b[0;34m]\u001b[0m\u001b[0;34m\u001b[0m\u001b[0;34m\u001b[0m\u001b[0m\n\u001b[0m\u001b[1;32m     61\u001b[0m         \u001b[0;31m#    env.take_action(cur.action)\u001b[0m\u001b[0;34m\u001b[0m\u001b[0;34m\u001b[0m\u001b[0;34m\u001b[0m\u001b[0m\n\u001b[1;32m     62\u001b[0m         \u001b[0;31m#simulation\u001b[0m\u001b[0;34m\u001b[0m\u001b[0;34m\u001b[0m\u001b[0;34m\u001b[0m\u001b[0m\n",
      "\u001b[0;31mIndexError\u001b[0m: list index out of range"
     ]
    }
   ],
   "source": [
    "play = g.play()"
   ]
  },
  {
   "cell_type": "code",
   "execution_count": null,
   "metadata": {},
   "outputs": [],
   "source": [
    "print(play)\n"
   ]
  },
  {
   "cell_type": "code",
   "execution_count": 102,
   "metadata": {},
   "outputs": [
    {
     "name": "stdout",
     "output_type": "stream",
     "text": [
      "[['o' '.' '.']\n",
      " ['.' '.' '.']\n",
      " ['.' '.' '.']]\n",
      "[['o' '.' '.']\n",
      " ['.' 'x' '.']\n",
      " ['.' '.' '.']]\n",
      "[['o' '.' 'o']\n",
      " ['.' 'x' '.']\n",
      " ['.' '.' '.']]\n",
      "[['o' 'x' 'o']\n",
      " ['.' 'x' '.']\n",
      " ['.' '.' '.']]\n",
      "[['o' 'x' 'o']\n",
      " ['.' 'x' 'o']\n",
      " ['.' '.' '.']]\n",
      "[['o' 'x' 'o']\n",
      " ['.' 'x' 'o']\n",
      " ['.' '.' 'x']]\n",
      "[['o' 'x' 'o']\n",
      " ['.' 'x' 'o']\n",
      " ['o' '.' 'x']]\n",
      "[['o' 'x' 'o']\n",
      " ['x' 'x' 'o']\n",
      " ['o' '.' 'x']]\n",
      "[['o' 'x' 'o']\n",
      " ['x' 'x' 'o']\n",
      " ['o' 'o' 'x']]\n"
     ]
    }
   ],
   "source": [
    "Game.display(play)"
   ]
  },
  {
   "cell_type": "code",
   "execution_count": null,
   "metadata": {},
   "outputs": [],
   "source": [
    "grr = Game(pr,ph)\n",
    "a = grr.play()"
   ]
  },
  {
   "cell_type": "code",
   "execution_count": null,
   "metadata": {},
   "outputs": [],
   "source": [
    "Game.display(a)"
   ]
  },
  {
   "cell_type": "code",
   "execution_count": null,
   "metadata": {},
   "outputs": [],
   "source": []
  }
 ],
 "metadata": {
  "kernelspec": {
   "display_name": "Python 3",
   "language": "python",
   "name": "python3"
  },
  "language_info": {
   "codemirror_mode": {
    "name": "ipython",
    "version": 3
   },
   "file_extension": ".py",
   "mimetype": "text/x-python",
   "name": "python",
   "nbconvert_exporter": "python",
   "pygments_lexer": "ipython3",
   "version": "3.7.4"
  }
 },
 "nbformat": 4,
 "nbformat_minor": 2
}
